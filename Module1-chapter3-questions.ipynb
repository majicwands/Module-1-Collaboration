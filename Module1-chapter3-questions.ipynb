{
 "cells": [
  {
   "cell_type": "markdown",
   "metadata": {},
   "source": []
  },
  {
   "cell_type": "code",
   "execution_count": null,
   "metadata": {},
   "outputs": [],
   "source": []
  },
  {
   "cell_type": "code",
   "execution_count": null,
   "metadata": {},
   "outputs": [
    {
     "name": "stdout",
     "output_type": "stream",
     "text": [
      "Total Seconds in 1 Hour is 3600\n",
      "Seconds per Hour is 3600\n",
      "Seconds per Day is 86400\n",
      "Amount of Hours is 24.0\n"
     ]
    }
   ],
   "source": [
    "#Question 3.1\n",
    "\n",
    "sec=60\n",
    "min=60\n",
    "total=sec*min\n",
    "print(\"Total Seconds in 1 Hour is\",total)\n",
    "\n",
    "#Question 3.2\n",
    "\n",
    "seconds_per_hour=total\n",
    "print(\"Seconds per Hour is\",seconds_per_hour)\n",
    "\n",
    "#Question 3.3\n",
    "\n",
    "seconds_per_day = (seconds_per_hour * 24)\n",
    "print(\"Seconds per Day is\",seconds_per_day)\n",
    "\n",
    "\n",
    "#Question 3.4\n",
    "\n",
    "amount_of_hours = (seconds_per_day/seconds_per_hour)\n",
    "print(\"Amount of Hours is\",amount_of_hours)\n",
    "\n",
    "\n",
    "#Question 3.6\n",
    "\n",
    "total_of_hours = (seconds_per_day//seconds_per_hour)\n",
    "print(\"Total hours is\",total_of_hours)"
   ]
  },
  {
   "cell_type": "code",
   "execution_count": null,
   "metadata": {},
   "outputs": [],
   "source": []
  }
 ],
 "metadata": {
  "kernelspec": {
   "display_name": "Python 3",
   "language": "python",
   "name": "python3"
  },
  "language_info": {
   "codemirror_mode": {
    "name": "ipython",
    "version": 3
   },
   "file_extension": ".py",
   "mimetype": "text/x-python",
   "name": "python",
   "nbconvert_exporter": "python",
   "pygments_lexer": "ipython3",
   "version": "3.13.0"
  }
 },
 "nbformat": 4,
 "nbformat_minor": 2
}
